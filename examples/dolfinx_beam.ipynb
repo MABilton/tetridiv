{
 "cells": [
  {
   "cell_type": "code",
   "execution_count": null,
   "id": "86bc0c47",
   "metadata": {},
   "outputs": [],
   "source": [
    "# - this can be done more easily with dolfinx.mesh:"
   ]
  }
 ],
 "metadata": {
  "kernelspec": {
   "display_name": "Python 3 (ipykernel)",
   "language": "python",
   "name": "python3"
  },
  "language_info": {
   "codemirror_mode": {
    "name": "ipython",
    "version": 3
   },
   "file_extension": ".py",
   "mimetype": "text/x-python",
   "name": "python",
   "nbconvert_exporter": "python",
   "pygments_lexer": "ipython3",
   "version": "3.8.10"
  }
 },
 "nbformat": 4,
 "nbformat_minor": 5
}
